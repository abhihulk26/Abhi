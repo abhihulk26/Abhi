{
 "cells": [
  {
   "cell_type": "code",
   "execution_count": 1,
   "id": "ea368c13",
   "metadata": {},
   "outputs": [],
   "source": [
    "import pandas as pd\n",
    "import matplotlib.pyplot as plt\n",
    "import seaborn as sns\n",
    "from sklearn.model_selection import train_test_split\n",
    "from sklearn.linear_model import LinearRegression\n",
    "from sklearn import metrics"
   ]
  },
  {
   "cell_type": "code",
   "execution_count": 2,
   "id": "86816d14",
   "metadata": {},
   "outputs": [],
   "source": [
    "data=pd.read_csv('car data.csv')"
   ]
  },
  {
   "cell_type": "code",
   "execution_count": 3,
   "id": "7b6cd0a7",
   "metadata": {},
   "outputs": [
    {
     "data": {
      "text/html": [
       "<div>\n",
       "<style scoped>\n",
       "    .dataframe tbody tr th:only-of-type {\n",
       "        vertical-align: middle;\n",
       "    }\n",
       "\n",
       "    .dataframe tbody tr th {\n",
       "        vertical-align: top;\n",
       "    }\n",
       "\n",
       "    .dataframe thead th {\n",
       "        text-align: right;\n",
       "    }\n",
       "</style>\n",
       "<table border=\"1\" class=\"dataframe\">\n",
       "  <thead>\n",
       "    <tr style=\"text-align: right;\">\n",
       "      <th></th>\n",
       "      <th>Car_Name</th>\n",
       "      <th>Year</th>\n",
       "      <th>Selling_Price</th>\n",
       "      <th>Present_Price</th>\n",
       "      <th>Kms_Driven</th>\n",
       "      <th>Fuel_Type</th>\n",
       "      <th>Seller_Type</th>\n",
       "      <th>Transmission</th>\n",
       "      <th>Owner</th>\n",
       "    </tr>\n",
       "  </thead>\n",
       "  <tbody>\n",
       "    <tr>\n",
       "      <th>0</th>\n",
       "      <td>ritz</td>\n",
       "      <td>2014</td>\n",
       "      <td>3.35</td>\n",
       "      <td>5.59</td>\n",
       "      <td>27000</td>\n",
       "      <td>Petrol</td>\n",
       "      <td>Dealer</td>\n",
       "      <td>Manual</td>\n",
       "      <td>0</td>\n",
       "    </tr>\n",
       "    <tr>\n",
       "      <th>1</th>\n",
       "      <td>sx4</td>\n",
       "      <td>2013</td>\n",
       "      <td>4.75</td>\n",
       "      <td>9.54</td>\n",
       "      <td>43000</td>\n",
       "      <td>Diesel</td>\n",
       "      <td>Dealer</td>\n",
       "      <td>Manual</td>\n",
       "      <td>0</td>\n",
       "    </tr>\n",
       "    <tr>\n",
       "      <th>2</th>\n",
       "      <td>ciaz</td>\n",
       "      <td>2017</td>\n",
       "      <td>7.25</td>\n",
       "      <td>9.85</td>\n",
       "      <td>6900</td>\n",
       "      <td>Petrol</td>\n",
       "      <td>Dealer</td>\n",
       "      <td>Manual</td>\n",
       "      <td>0</td>\n",
       "    </tr>\n",
       "    <tr>\n",
       "      <th>3</th>\n",
       "      <td>wagon r</td>\n",
       "      <td>2011</td>\n",
       "      <td>2.85</td>\n",
       "      <td>4.15</td>\n",
       "      <td>5200</td>\n",
       "      <td>Petrol</td>\n",
       "      <td>Dealer</td>\n",
       "      <td>Manual</td>\n",
       "      <td>0</td>\n",
       "    </tr>\n",
       "    <tr>\n",
       "      <th>4</th>\n",
       "      <td>swift</td>\n",
       "      <td>2014</td>\n",
       "      <td>4.60</td>\n",
       "      <td>6.87</td>\n",
       "      <td>42450</td>\n",
       "      <td>Diesel</td>\n",
       "      <td>Dealer</td>\n",
       "      <td>Manual</td>\n",
       "      <td>0</td>\n",
       "    </tr>\n",
       "  </tbody>\n",
       "</table>\n",
       "</div>"
      ],
      "text/plain": [
       "  Car_Name  Year  Selling_Price  Present_Price  Kms_Driven Fuel_Type  \\\n",
       "0     ritz  2014           3.35           5.59       27000    Petrol   \n",
       "1      sx4  2013           4.75           9.54       43000    Diesel   \n",
       "2     ciaz  2017           7.25           9.85        6900    Petrol   \n",
       "3  wagon r  2011           2.85           4.15        5200    Petrol   \n",
       "4    swift  2014           4.60           6.87       42450    Diesel   \n",
       "\n",
       "  Seller_Type Transmission  Owner  \n",
       "0      Dealer       Manual      0  \n",
       "1      Dealer       Manual      0  \n",
       "2      Dealer       Manual      0  \n",
       "3      Dealer       Manual      0  \n",
       "4      Dealer       Manual      0  "
      ]
     },
     "execution_count": 3,
     "metadata": {},
     "output_type": "execute_result"
    }
   ],
   "source": [
    "data.head()"
   ]
  },
  {
   "cell_type": "code",
   "execution_count": 4,
   "id": "4dd9b2b8",
   "metadata": {},
   "outputs": [
    {
     "name": "stdout",
     "output_type": "stream",
     "text": [
      "<class 'pandas.core.frame.DataFrame'>\n",
      "RangeIndex: 301 entries, 0 to 300\n",
      "Data columns (total 9 columns):\n",
      " #   Column         Non-Null Count  Dtype  \n",
      "---  ------         --------------  -----  \n",
      " 0   Car_Name       301 non-null    object \n",
      " 1   Year           301 non-null    int64  \n",
      " 2   Selling_Price  301 non-null    float64\n",
      " 3   Present_Price  301 non-null    float64\n",
      " 4   Kms_Driven     301 non-null    int64  \n",
      " 5   Fuel_Type      301 non-null    object \n",
      " 6   Seller_Type    301 non-null    object \n",
      " 7   Transmission   301 non-null    object \n",
      " 8   Owner          301 non-null    int64  \n",
      "dtypes: float64(2), int64(3), object(4)\n",
      "memory usage: 21.3+ KB\n"
     ]
    }
   ],
   "source": [
    "data.info()"
   ]
  },
  {
   "cell_type": "code",
   "execution_count": 5,
   "id": "44484bd9",
   "metadata": {},
   "outputs": [
    {
     "name": "stdout",
     "output_type": "stream",
     "text": [
      "Petrol    239\n",
      "Diesel     60\n",
      "CNG         2\n",
      "Name: Fuel_Type, dtype: int64\n",
      "Dealer        195\n",
      "Individual    106\n",
      "Name: Seller_Type, dtype: int64\n",
      "Manual       261\n",
      "Automatic     40\n",
      "Name: Transmission, dtype: int64\n"
     ]
    }
   ],
   "source": [
    "#checking the distribution of categorical data\n",
    "print (data.Fuel_Type.value_counts())\n",
    "print (data.Seller_Type.value_counts())\n",
    "print (data.Transmission.value_counts())"
   ]
  },
  {
   "cell_type": "code",
   "execution_count": 6,
   "id": "337a4ff3",
   "metadata": {},
   "outputs": [],
   "source": [
    "# encoding categorical data \n",
    "data.replace({'Fuel_Type':{'Petrol':0,'Diesel':1,'CNG':2}},inplace=True)\n",
    "data.replace({'Seller_Type':{'Dealer':0,'Individual':1}},inplace=True)\n",
    "data.replace({'Transmission':{'Manual':0,'Automatic':1}},inplace=True)"
   ]
  },
  {
   "cell_type": "code",
   "execution_count": 7,
   "id": "6d089683",
   "metadata": {},
   "outputs": [],
   "source": [
    "#splitting the data into target\n",
    "x=data.drop(['Car_Name','Selling_Price'],axis=1)\n",
    "y=data['Selling_Price']"
   ]
  },
  {
   "cell_type": "code",
   "execution_count": 8,
   "id": "6a5be3e5",
   "metadata": {},
   "outputs": [
    {
     "data": {
      "text/html": [
       "<div>\n",
       "<style scoped>\n",
       "    .dataframe tbody tr th:only-of-type {\n",
       "        vertical-align: middle;\n",
       "    }\n",
       "\n",
       "    .dataframe tbody tr th {\n",
       "        vertical-align: top;\n",
       "    }\n",
       "\n",
       "    .dataframe thead th {\n",
       "        text-align: right;\n",
       "    }\n",
       "</style>\n",
       "<table border=\"1\" class=\"dataframe\">\n",
       "  <thead>\n",
       "    <tr style=\"text-align: right;\">\n",
       "      <th></th>\n",
       "      <th>Year</th>\n",
       "      <th>Present_Price</th>\n",
       "      <th>Kms_Driven</th>\n",
       "      <th>Fuel_Type</th>\n",
       "      <th>Seller_Type</th>\n",
       "      <th>Transmission</th>\n",
       "      <th>Owner</th>\n",
       "    </tr>\n",
       "  </thead>\n",
       "  <tbody>\n",
       "    <tr>\n",
       "      <th>0</th>\n",
       "      <td>2014</td>\n",
       "      <td>5.59</td>\n",
       "      <td>27000</td>\n",
       "      <td>0</td>\n",
       "      <td>0</td>\n",
       "      <td>0</td>\n",
       "      <td>0</td>\n",
       "    </tr>\n",
       "    <tr>\n",
       "      <th>1</th>\n",
       "      <td>2013</td>\n",
       "      <td>9.54</td>\n",
       "      <td>43000</td>\n",
       "      <td>1</td>\n",
       "      <td>0</td>\n",
       "      <td>0</td>\n",
       "      <td>0</td>\n",
       "    </tr>\n",
       "    <tr>\n",
       "      <th>2</th>\n",
       "      <td>2017</td>\n",
       "      <td>9.85</td>\n",
       "      <td>6900</td>\n",
       "      <td>0</td>\n",
       "      <td>0</td>\n",
       "      <td>0</td>\n",
       "      <td>0</td>\n",
       "    </tr>\n",
       "    <tr>\n",
       "      <th>3</th>\n",
       "      <td>2011</td>\n",
       "      <td>4.15</td>\n",
       "      <td>5200</td>\n",
       "      <td>0</td>\n",
       "      <td>0</td>\n",
       "      <td>0</td>\n",
       "      <td>0</td>\n",
       "    </tr>\n",
       "    <tr>\n",
       "      <th>4</th>\n",
       "      <td>2014</td>\n",
       "      <td>6.87</td>\n",
       "      <td>42450</td>\n",
       "      <td>1</td>\n",
       "      <td>0</td>\n",
       "      <td>0</td>\n",
       "      <td>0</td>\n",
       "    </tr>\n",
       "    <tr>\n",
       "      <th>5</th>\n",
       "      <td>2018</td>\n",
       "      <td>9.83</td>\n",
       "      <td>2071</td>\n",
       "      <td>1</td>\n",
       "      <td>0</td>\n",
       "      <td>0</td>\n",
       "      <td>0</td>\n",
       "    </tr>\n",
       "    <tr>\n",
       "      <th>6</th>\n",
       "      <td>2015</td>\n",
       "      <td>8.12</td>\n",
       "      <td>18796</td>\n",
       "      <td>0</td>\n",
       "      <td>0</td>\n",
       "      <td>0</td>\n",
       "      <td>0</td>\n",
       "    </tr>\n",
       "    <tr>\n",
       "      <th>7</th>\n",
       "      <td>2015</td>\n",
       "      <td>8.61</td>\n",
       "      <td>33429</td>\n",
       "      <td>1</td>\n",
       "      <td>0</td>\n",
       "      <td>0</td>\n",
       "      <td>0</td>\n",
       "    </tr>\n",
       "    <tr>\n",
       "      <th>8</th>\n",
       "      <td>2016</td>\n",
       "      <td>8.89</td>\n",
       "      <td>20273</td>\n",
       "      <td>1</td>\n",
       "      <td>0</td>\n",
       "      <td>0</td>\n",
       "      <td>0</td>\n",
       "    </tr>\n",
       "    <tr>\n",
       "      <th>9</th>\n",
       "      <td>2015</td>\n",
       "      <td>8.92</td>\n",
       "      <td>42367</td>\n",
       "      <td>1</td>\n",
       "      <td>0</td>\n",
       "      <td>0</td>\n",
       "      <td>0</td>\n",
       "    </tr>\n",
       "  </tbody>\n",
       "</table>\n",
       "</div>"
      ],
      "text/plain": [
       "   Year  Present_Price  Kms_Driven  Fuel_Type  Seller_Type  Transmission  \\\n",
       "0  2014           5.59       27000          0            0             0   \n",
       "1  2013           9.54       43000          1            0             0   \n",
       "2  2017           9.85        6900          0            0             0   \n",
       "3  2011           4.15        5200          0            0             0   \n",
       "4  2014           6.87       42450          1            0             0   \n",
       "5  2018           9.83        2071          1            0             0   \n",
       "6  2015           8.12       18796          0            0             0   \n",
       "7  2015           8.61       33429          1            0             0   \n",
       "8  2016           8.89       20273          1            0             0   \n",
       "9  2015           8.92       42367          1            0             0   \n",
       "\n",
       "   Owner  \n",
       "0      0  \n",
       "1      0  \n",
       "2      0  \n",
       "3      0  \n",
       "4      0  \n",
       "5      0  \n",
       "6      0  \n",
       "7      0  \n",
       "8      0  \n",
       "9      0  "
      ]
     },
     "execution_count": 8,
     "metadata": {},
     "output_type": "execute_result"
    }
   ],
   "source": [
    "x.head(10)"
   ]
  },
  {
   "cell_type": "code",
   "execution_count": 9,
   "id": "dcaa7653",
   "metadata": {},
   "outputs": [
    {
     "data": {
      "text/plain": [
       "0       3.35\n",
       "1       4.75\n",
       "2       7.25\n",
       "3       2.85\n",
       "4       4.60\n",
       "       ...  \n",
       "296     9.50\n",
       "297     4.00\n",
       "298     3.35\n",
       "299    11.50\n",
       "300     5.30\n",
       "Name: Selling_Price, Length: 301, dtype: float64"
      ]
     },
     "execution_count": 9,
     "metadata": {},
     "output_type": "execute_result"
    }
   ],
   "source": [
    "y"
   ]
  },
  {
   "cell_type": "code",
   "execution_count": 10,
   "id": "072886fd",
   "metadata": {},
   "outputs": [],
   "source": [
    "#splitting the data into train and test\n",
    "#to ask random state\n",
    "x_train,x_test,y_train,y_test =train_test_split(x,y,test_size=0.1,random_state=2)"
   ]
  },
  {
   "cell_type": "code",
   "execution_count": 11,
   "id": "c22b7d91",
   "metadata": {},
   "outputs": [
    {
     "data": {
      "text/plain": [
       "LinearRegression()"
      ]
     },
     "execution_count": 11,
     "metadata": {},
     "output_type": "execute_result"
    }
   ],
   "source": [
    "#modeltraining\n",
    "\n",
    "lin_reg=LinearRegression()\n",
    "lin_reg.fit(x_train,y_train)"
   ]
  },
  {
   "cell_type": "code",
   "execution_count": 12,
   "id": "8b39e7c5",
   "metadata": {},
   "outputs": [],
   "source": [
    "#modelevaluation\n",
    "#prediction on tarining data\n",
    "trap=lin_reg.predict(x_train)"
   ]
  },
  {
   "cell_type": "code",
   "execution_count": 13,
   "id": "41e956e6",
   "metadata": {},
   "outputs": [
    {
     "data": {
      "text/plain": [
       "array([ 3.73088505e+00,  5.60702081e+00,  7.79779356e+00, -1.88374756e+00,\n",
       "        6.71614572e+00,  8.14343296e+00,  5.84067525e+00,  6.17919527e+00,\n",
       "        6.15863751e+00,  1.59459051e+01,  2.15385926e+00,  1.11618544e+00,\n",
       "       -4.05463414e-01,  6.69051516e+00,  6.81961414e+00,  1.02957394e+00,\n",
       "        6.74306974e+00,  1.43864300e+01,  3.00001893e+00,  7.95149024e+00,\n",
       "       -8.38569413e-01,  9.02067892e+00,  1.21210550e+00,  2.20040027e+00,\n",
       "       -8.23744275e-01,  7.52651502e-01,  1.00142469e+01, -4.08950275e-01,\n",
       "       -2.40418357e+00,  9.99845989e+00,  6.81867179e+00,  1.09249928e+00,\n",
       "        4.36158792e+00,  9.20660480e-02,  3.48993776e+00,  2.78147834e+00,\n",
       "        1.50401026e+00,  4.65736158e-01,  1.68679810e+00,  1.18722506e+00,\n",
       "        4.32936153e+00,  6.09932798e+00,  9.51639926e-01,  7.52875828e-01,\n",
       "        6.05967594e+00,  3.49453005e+00,  2.40969246e+00,  7.52230513e+00,\n",
       "        4.63113915e+00,  4.44239322e+00,  4.22460259e+00,  2.71077171e+00,\n",
       "        4.46881874e+00,  1.76156730e+00,  2.86100050e-01,  3.95181249e+00,\n",
       "        1.36371845e+00,  4.63046605e+00,  1.44343122e+00,  7.27550233e+00,\n",
       "        7.26488044e+00,  6.54659602e+00,  2.36324853e+00,  2.19217418e+01,\n",
       "        2.16319930e+00,  5.66076848e+00,  2.80906060e+00,  7.49802869e+00,\n",
       "        5.62886682e+00,  9.98314981e+00,  2.06830269e+00,  2.39461488e+00,\n",
       "        1.25697170e+00,  2.48624712e+00,  9.87503255e+00,  1.99829124e+00,\n",
       "       -5.95850149e-01,  5.42977049e+00,  1.14801568e+01,  7.23519617e-02,\n",
       "        1.16970906e+00,  1.59303454e+00,  5.41364480e+00,  1.41557179e+00,\n",
       "        7.74504567e+00,  1.84083793e+01,  2.58142127e+00,  2.07186281e-01,\n",
       "        1.89736367e+00,  9.26780904e+00,  3.99021820e+00,  7.07156998e+00,\n",
       "        1.68502818e+01,  1.02685111e+01,  3.68136662e+00,  1.50064476e+00,\n",
       "        4.31232923e+00, -4.34880981e-01,  1.71285667e+00,  8.27991453e+00,\n",
       "        1.14683904e+00,  7.50346268e+00, -2.04666325e+00,  8.30146254e-01,\n",
       "        7.26854735e+00,  8.02021894e+00,  7.36905488e+00, -3.79414332e+00,\n",
       "        3.75525897e+00,  8.25695012e+00,  3.51472306e+00,  2.53338755e+00,\n",
       "        4.16232248e+00, -3.24088512e+00,  5.18615085e+00,  1.85821266e+00,\n",
       "        3.49278787e+00,  7.72803450e+00, -2.72911676e-02,  1.85585877e+00,\n",
       "        1.61750191e+00,  1.86723050e+00,  3.44019213e+00, -2.61256990e+00,\n",
       "        2.83571040e-01,  6.47077845e+00,  6.81795378e+00,  1.27856366e+00,\n",
       "        1.98246558e+00,  7.77746593e+00,  3.99027153e+00,  7.11781878e-01,\n",
       "        7.91403394e+00,  6.23267855e+00,  1.28756708e+00, -1.96729056e+00,\n",
       "        5.28552207e+00,  6.04550694e+00,  5.16190178e+00,  4.22971237e+00,\n",
       "        9.51891054e-01,  7.35166727e+00,  4.01818932e+00, -1.04710559e+00,\n",
       "        1.09156146e+01,  4.39667870e+00,  2.86984918e+00,  1.91986725e+00,\n",
       "        4.96862623e+00,  4.77936928e+00,  4.25092177e+00,  1.71053421e+01,\n",
       "       -1.07199613e+00,  1.26451025e+00,  5.21327300e+00,  2.12348337e+00,\n",
       "        5.99165891e+00,  3.40807255e+00,  4.80827934e+00,  3.38918116e+00,\n",
       "        5.13795684e-01,  4.44055098e+00,  2.00903744e+01,  3.83901354e+00,\n",
       "        4.53066612e+00,  2.19632384e+00,  2.97882688e+00,  1.63013254e-01,\n",
       "        7.45166142e+00, -9.64114771e-01,  2.07084616e+01,  1.48302952e-01,\n",
       "        7.67297383e+00,  1.97138512e+00,  1.58318918e+00,  8.59464322e+00,\n",
       "        2.03394215e+01,  3.12384360e+00,  4.48104068e+00,  5.12059119e+00,\n",
       "        4.44820127e+00,  6.32711743e+00,  6.14313782e+00,  1.63379307e+00,\n",
       "        4.86593391e-01,  7.15580082e+00,  8.19411548e+00,  2.20656869e+00,\n",
       "       -3.00310326e+00,  4.28862263e+00,  4.26053193e+00,  5.13714273e+00,\n",
       "       -3.42194582e-01,  6.40060227e+00,  4.40377318e+00,  8.20122236e+00,\n",
       "        8.08394337e-01,  1.09158807e+01,  5.67433085e+00, -9.84515513e-01,\n",
       "        6.41897928e+00,  5.08269665e+00,  6.91554730e+00,  4.93883063e+00,\n",
       "        5.77578402e+00,  2.12723538e+00,  2.52675517e+00,  4.89440672e+00,\n",
       "        3.15266181e+00, -1.52384175e+00,  4.17949082e+01,  5.81924561e+00,\n",
       "        5.14055580e+00,  3.92237207e-01,  9.05432721e+00,  6.56459921e+00,\n",
       "        7.18219701e+00,  1.66366108e+00,  7.11473745e+00,  9.07935482e+00,\n",
       "        4.46753893e+00,  3.36303450e+00,  6.35490979e+00,  6.55934903e+00,\n",
       "        1.66016819e+01,  9.39027813e+00,  6.26564147e+00, -1.43439660e-01,\n",
       "        2.55568656e+00,  2.97505284e+00,  5.85941753e+00,  5.06592497e+00,\n",
       "        9.32375818e-01,  8.13064209e+00,  5.75158168e+00,  7.71554069e+00,\n",
       "        2.18559206e+00,  1.67445579e+01,  4.87739901e+00,  1.46396860e+01,\n",
       "        1.05280516e+01,  2.12054166e+00, -5.25492431e-02,  9.93653139e+00,\n",
       "       -3.52247643e+00,  3.49678260e+00,  2.73531683e+00,  3.41170538e+00,\n",
       "        7.39379673e+00,  3.96888732e+00,  1.84083793e+01,  8.15712083e+00,\n",
       "        2.54637150e+00,  8.78314015e-01,  6.36747996e-01,  5.77461943e-01,\n",
       "        4.35596477e-01,  5.38888735e+00,  6.47934817e+00, -3.23943162e-01,\n",
       "        3.10622023e+00,  9.01067339e+00,  8.42951569e+00,  8.19695422e-02,\n",
       "        5.65761124e+00,  4.71872253e+00,  5.02500936e+00,  8.94663115e+00,\n",
       "        8.59464322e+00,  3.94153678e-01])"
      ]
     },
     "execution_count": 13,
     "metadata": {},
     "output_type": "execute_result"
    }
   ],
   "source": [
    "trap"
   ]
  },
  {
   "cell_type": "code",
   "execution_count": 14,
   "id": "7898aa21",
   "metadata": {},
   "outputs": [
    {
     "name": "stdout",
     "output_type": "stream",
     "text": [
      "r squared error: 0.8799451660493698\n"
     ]
    }
   ],
   "source": [
    "#rsquared error\n",
    "error_score=metrics.r2_score(y_train,trap)\n",
    "print(\"r squared error:\",error_score)"
   ]
  },
  {
   "cell_type": "code",
   "execution_count": 15,
   "id": "661c943e",
   "metadata": {},
   "outputs": [
    {
     "data": {
      "image/png": "[encoded data removed]",
      "text/plain": [
       "<Figure size 432x288 with 1 Axes>"
      ]
     },
     "metadata": {
      "needs_background": "light"
     },
     "output_type": "display_data"
    }
   ],
   "source": [
    "#visualize the actual and predict price\n",
    "plt.scatter(y_train,trap)\n",
    "plt.xlabel(\"actual price\")\n",
    "plt.ylabel(\"predicted price\")\n",
    "plt.title(\"actual vs predicted price\")\n",
    "plt.show()"
   ]
  },
  {
   "cell_type": "code",
   "execution_count": 16,
   "id": "b0467524",
   "metadata": {},
   "outputs": [],
   "source": [
    "#prediction on test data\n",
    "trap1=lin_reg.predict(x_test)"
   ]
  },
  {
   "cell_type": "code",
   "execution_count": 17,
   "id": "76768659",
   "metadata": {},
   "outputs": [
    {
     "name": "stdout",
     "output_type": "stream",
     "text": [
      "r squared error: 0.8365766715026905\n"
     ]
    }
   ],
   "source": [
    "error_score1=metrics.r2_score(y_test,trap1)\n",
    "print(\"r squared error:\",error_score1)"
   ]
  },
  {
   "cell_type": "code",
   "execution_count": 18,
   "id": "63434712",
   "metadata": {},
   "outputs": [
    {
     "data": {
      "image/png": "[encoded data removed]",
      "text/plain": [
       "<Figure size 432x288 with 1 Axes>"
      ]
     },
     "metadata": {
      "needs_background": "light"
     },
     "output_type": "display_data"
    }
   ],
   "source": [
    "plt.scatter(y_test,trap1)\n",
    "plt.xlabel(\"actual price\")\n",
    "plt.ylabel(\"predicted price\")\n",
    "plt.title(\"actual vs predicted price\")\n",
    "plt.show()"
   ]
  },
  {
   "cell_type": "code",
   "execution_count": 20,
   "id": "72684aa1",
   "metadata": {},
   "outputs": [],
   "source": [
    "import joblib\n"
   ]
  },
  {
   "cell_type": "code",
   "execution_count": 23,
   "id": "9877105f",
   "metadata": {},
   "outputs": [
    {
     "data": {
      "text/plain": [
       "['cars.pkl']"
      ]
     },
     "execution_count": 23,
     "metadata": {},
     "output_type": "execute_result"
    }
   ],
   "source": [
    "joblib.dump(lin_reg,'cars.pkl')\n",
    "# joblib.dump(lin_reg,file)"
   ]
  },
  {
   "cell_type": "code",
   "execution_count": null,
   "id": "defe4aba",
   "metadata": {},
   "outputs": [],
   "source": []
  },
  {
   "cell_type": "code",
   "execution_count": null,
   "id": "2fcbbc06",
   "metadata": {},
   "outputs": [],
   "source": []
  }
 ],
 "metadata": {
  "kernelspec": {
   "display_name": "Python 3",
   "language": "python",
   "name": "python3"
  },
  "language_info": {
   "codemirror_mode": {
    "name": "ipython",
    "version": 3
   },
   "file_extension": ".py",
   "mimetype": "text/x-python",
   "name": "python",
   "nbconvert_exporter": "python",
   "pygments_lexer": "ipython3",
   "version": "3.8.8"
  }
 },
 "nbformat": 4,
 "nbformat_minor": 5
}
